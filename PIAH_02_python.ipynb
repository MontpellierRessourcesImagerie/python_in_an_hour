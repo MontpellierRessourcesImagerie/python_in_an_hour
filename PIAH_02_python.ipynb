{
 "cells": [
  {
   "cell_type": "markdown",
   "metadata": {},
   "source": [
    "<center>\n",
    "\n",
    "# Python\n",
    "\n",
    "</center>"
   ]
  },
  {
   "cell_type": "markdown",
   "metadata": {},
   "source": [
    "<center>\n",
    "<img src='https://www.python.org/static/community_logos/python-powered-h-140x182.png'><br>\n",
    "Fig. 1 - The python logo.<br> ''By the way, the language is named after the BBC show “Monty Python’s Flying Circus” and has\n",
    "nothing to do with nasty reptiles...'' - Guido van Rossum\n",
    "</center>\n",
    "<center>\n",
    "    \n",
    "![python-logo]()\n",
    "\n",
    "</center>"
   ]
  },
  {
   "cell_type": "markdown",
   "metadata": {},
   "source": [
    "## What is python?"
   ]
  },
  {
   "cell_type": "markdown",
   "metadata": {},
   "source": [
    "Short Answer: Python is a high level interpreted programming language.\n",
    "Some more details: Python is strongly dynamically typed, modular and supports multiple programming paradigms.\n",
    "\n",
    "What does all of this mean?"
   ]
  },
  {
   "cell_type": "markdown",
   "metadata": {},
   "source": [
    "## High level programming language"
   ]
  },
  {
   "cell_type": "markdown",
   "metadata": {},
   "source": [
    "High level means a high level of abstraction from the details of the underlying machine. One example of this is that you do not have to care of how the memory of the computer is managed when you create objects. For example, you can create a list of numbers, without having to reserve and free memory."
   ]
  },
  {
   "cell_type": "code",
   "execution_count": 1,
   "metadata": {},
   "outputs": [
    {
     "data": {
      "text/plain": [
       "[2, 4, 6, 8]"
      ]
     },
     "execution_count": 1,
     "metadata": {},
     "output_type": "execute_result"
    }
   ],
   "source": [
    "numbers = [2, 4, 6, 8]\n",
    "numbers"
   ]
  },
  {
   "cell_type": "markdown",
   "metadata": {},
   "source": [
    "It also comes in handy for our purposes to have operations that can directly be applied to complex data structures. Using the numpy package we can multiply each element of an array by a factor by writing:"
   ]
  },
  {
   "cell_type": "code",
   "execution_count": 2,
   "metadata": {},
   "outputs": [
    {
     "data": {
      "text/plain": [
       "array([ 6, 12, 18, 24])"
      ]
     },
     "execution_count": 2,
     "metadata": {},
     "output_type": "execute_result"
    }
   ],
   "source": [
    "import numpy as np\n",
    "numbers = np.array([2, 4, 6, 8])\n",
    "numbers * 3"
   ]
  },
  {
   "cell_type": "markdown",
   "metadata": {},
   "source": [
    "## Interpreted language"
   ]
  },
  {
   "cell_type": "markdown",
   "metadata": {},
   "source": [
    "Compiled languages are languages for which a compiler translates the language from a higher level language to a more machine near language before the code is executed. For interpreted languages an interpreter reads commands and executes them directly as they come. Interpreted languages are usually more user friendly, however there execution speed is most of the time slower. "
   ]
  },
  {
   "cell_type": "markdown",
   "metadata": {},
   "source": [
    "## Dynamically typed"
   ]
  },
  {
   "cell_type": "markdown",
   "metadata": {},
   "source": [
    "Each object in python has a type, it can for example be a number, a text or a list. We can assign an object to a variable. Statically typed languages are mostly compiled languages. In statically typed languages the compiler checks that you do not use a variable of the wrong type at some place. Interpreted languages like python are most often dynamically typed. When you use an object of the wrong type at some place you will get an error when the program is executed.\n",
    "\n",
    "In python the type of a variable is not declared. A variable has simply the type of the object that has been assigned to it. You can assign an object of one type to a variable and an object of a different type to the same variable later. You can, but you should avoid it for clarity. So just for the demonstration:"
   ]
  },
  {
   "cell_type": "code",
   "execution_count": 3,
   "metadata": {},
   "outputs": [
    {
     "name": "stdout",
     "output_type": "stream",
     "text": [
      "<class 'int'>\n",
      "<class 'str'>\n"
     ]
    }
   ],
   "source": [
    "number = 5\n",
    "print(type(number))\n",
    "number = \"five\"\n",
    "print(type(number))"
   ]
  },
  {
   "cell_type": "markdown",
   "metadata": {},
   "source": [
    "## Strongly typed"
   ]
  },
  {
   "cell_type": "markdown",
   "metadata": {},
   "source": [
    "Strongly typed, means that the language will not implicitly convert a type to another type. Many languages do this. We can for example concatenate to strings (texts) with the operator +. However we can not apply the concatenation to a string and a number. We have to convert the number to a string explicitly."
   ]
  },
  {
   "cell_type": "code",
   "execution_count": 4,
   "metadata": {},
   "outputs": [
    {
     "ename": "TypeError",
     "evalue": "can only concatenate str (not \"int\") to str",
     "output_type": "error",
     "traceback": [
      "\u001b[0;31m---------------------------------------------------------------------------\u001b[0m",
      "\u001b[0;31mTypeError\u001b[0m                                 Traceback (most recent call last)",
      "\u001b[0;32m<ipython-input-4-02711f633668>\u001b[0m in \u001b[0;36m<module>\u001b[0;34m\u001b[0m\n\u001b[1;32m      1\u001b[0m \u001b[0maNumber\u001b[0m \u001b[0;34m=\u001b[0m \u001b[0;36m5\u001b[0m\u001b[0;34m\u001b[0m\u001b[0;34m\u001b[0m\u001b[0m\n\u001b[0;32m----> 2\u001b[0;31m \u001b[0;34m\"The number is \"\u001b[0m \u001b[0;34m+\u001b[0m \u001b[0maNumber\u001b[0m\u001b[0;34m\u001b[0m\u001b[0;34m\u001b[0m\u001b[0m\n\u001b[0m",
      "\u001b[0;31mTypeError\u001b[0m: can only concatenate str (not \"int\") to str"
     ]
    }
   ],
   "source": [
    "aNumber = 5\n",
    "\"The number is \" + aNumber"
   ]
  },
  {
   "cell_type": "code",
   "execution_count": null,
   "metadata": {},
   "outputs": [],
   "source": [
    "aNumber = 5\n",
    "\"The number is \" + str(aNumber)"
   ]
  },
  {
   "cell_type": "markdown",
   "metadata": {},
   "source": [
    "## Modular"
   ]
  },
  {
   "cell_type": "markdown",
   "metadata": {},
   "source": [
    "Modular means that the functionallity of the language is oragized in modules. A modules contains a number of objects and functions for a common topic. For example the module math in python contains advanced mathematical functions, basic mathematical operators and functions are already part of the core language. If we want to use the objects and functions in a module we have to import them from the module. "
   ]
  },
  {
   "cell_type": "code",
   "execution_count": 5,
   "metadata": {},
   "outputs": [
    {
     "data": {
      "text/plain": [
       "1.2246467991473532e-16"
      ]
     },
     "execution_count": 5,
     "metadata": {},
     "output_type": "execute_result"
    }
   ],
   "source": [
    "from math import pi, sin\n",
    "sin(pi)"
   ]
  },
  {
   "cell_type": "markdown",
   "metadata": {},
   "source": [
    "## Programming paradigms"
   ]
  },
  {
   "cell_type": "markdown",
   "metadata": {},
   "source": [
    "What is a computer program? Different paradigms have different answers to that question. "
   ]
  },
  {
   "cell_type": "markdown",
   "metadata": {},
   "source": [
    "### The procedural paradigm"
   ]
  },
  {
   "cell_type": "markdown",
   "metadata": {},
   "source": [
    "A program has inputs, a current state, and outputs. A program consists of a number of precedures that manipulate the current state to achive a result and create an output."
   ]
  },
  {
   "cell_type": "markdown",
   "metadata": {},
   "source": [
    "As an example we program a robot to go 100 steps forward and then 50 steps to the right."
   ]
  },
  {
   "cell_type": "code",
   "execution_count": 6,
   "metadata": {},
   "outputs": [
    {
     "name": "stdout",
     "output_type": "stream",
     "text": [
      "[110, 70]\n"
     ]
    }
   ],
   "source": [
    "positionOfRobot = [10,20]\n",
    "currentDirection = 'north' \n",
    "def forward(steps):\n",
    "    global positionOfRobot, currentDirection\n",
    "    if currentDirection=='north':\n",
    "        positionOfRobot[0] = positionOfRobot[0] + steps\n",
    "    if currentDirection=='east':\n",
    "        positionOfRobot[1] = positionOfRobot[1] + steps\n",
    "def turnToDirection(direction):\n",
    "    global currentDirection\n",
    "    currentDirection = direction\n",
    "    \n",
    "forward(100)\n",
    "turnToDirection('east')\n",
    "forward(50)\n",
    "print(positionOfRobot)"
   ]
  },
  {
   "cell_type": "markdown",
   "metadata": {},
   "source": [
    "### The functional paradigm"
   ]
  },
  {
   "cell_type": "markdown",
   "metadata": {},
   "source": [
    "A program has input parameters and an output. A program consists of a number of functions that are applied to the input parameters to calculate an output."
   ]
  },
  {
   "cell_type": "code",
   "execution_count": 7,
   "metadata": {},
   "outputs": [
    {
     "data": {
      "text/plain": [
       "(110, 70)"
      ]
     },
     "execution_count": 7,
     "metadata": {},
     "output_type": "execute_result"
    }
   ],
   "source": [
    "def forward(positionOfRobot, currentDirection, steps):\n",
    "    newPosition = 0, 0\n",
    "    if currentDirection=='north':\n",
    "        newPosition = positionOfRobot[0] + steps, positionOfRobot[1]\n",
    "    if currentDirection=='east':\n",
    "        newPosition = positionOfRobot[0], positionOfRobot[1] + steps\n",
    "    return newPosition\n",
    "\n",
    "forward(\n",
    "    forward((10, 20), 'north', 100), \n",
    "    'east', \n",
    "    50)"
   ]
  },
  {
   "cell_type": "markdown",
   "metadata": {},
   "source": [
    "### The object-oriented paradigm"
   ]
  },
  {
   "cell_type": "markdown",
   "metadata": {},
   "source": [
    "A program has an input, a current state an output. A program consists of a number of objects. The current state of the program is the current state of its objects. Objects exchange messages to achive a result. In response to a message an object can modify its state and/or answer an object. "
   ]
  },
  {
   "cell_type": "code",
   "execution_count": 9,
   "metadata": {},
   "outputs": [
    {
     "data": {
      "text/plain": [
       "(110, 70)"
      ]
     },
     "execution_count": 9,
     "metadata": {},
     "output_type": "execute_result"
    }
   ],
   "source": [
    "class Robot(object):\n",
    "    def __init__(self, position, direction):\n",
    "        self.positionX, self.positionY = position\n",
    "        self.direction = direction\n",
    "    def forward(self, steps):\n",
    "        if self.direction=='north':\n",
    "            self.positionX = self.positionX + steps\n",
    "        if self.direction=='east':\n",
    "            self.positionY = self.positionY + steps\n",
    "        return self\n",
    "    def turnToDirection(self, direction):\n",
    "        self.direction = direction\n",
    "        return self\n",
    "    \n",
    "robbie = Robot((10, 20), 'north')\n",
    "robbie.forward(100)\n",
    "robbie.turnToDirection('east')\n",
    "robbie.forward(50)\n",
    "robbie.positionX, robbie.positionY"
   ]
  },
  {
   "cell_type": "markdown",
   "metadata": {},
   "source": [
    "The procedural and object-oriented paradigms are part of the imparative programming paradigm while the functional paradigm is part of the declarative paradigm. These 3 are the programming paradigms supported by python. "
   ]
  }
 ],
 "metadata": {
  "kernelspec": {
   "display_name": "Python 3",
   "language": "python",
   "name": "python3"
  },
  "language_info": {
   "codemirror_mode": {
    "name": "ipython",
    "version": 3
   },
   "file_extension": ".py",
   "mimetype": "text/x-python",
   "name": "python",
   "nbconvert_exporter": "python",
   "pygments_lexer": "ipython3",
   "version": "3.7.6"
  }
 },
 "nbformat": 4,
 "nbformat_minor": 4
}
