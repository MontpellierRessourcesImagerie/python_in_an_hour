{
 "cells": [
  {
   "cell_type": "markdown",
   "metadata": {},
   "source": [
    "# Jupyter Notebooks"
   ]
  },
  {
   "cell_type": "markdown",
   "metadata": {},
   "source": [
    "<img src='https://authorea.com/users/3/articles/6316/master/file/figures/galileo/galileozoom2.png' width='400'>\n",
    "<center>\n",
    "Fig. 1 - This is a translated snapshot from a text by Galileo Galilei,<br> the Sidereus Nuncius or the very first jupyter notebook.\n",
    "</center>"
   ]
  },
  {
   "cell_type": "markdown",
   "metadata": {},
   "source": [
    "## What is it?"
   ]
  },
  {
   "cell_type": "markdown",
   "metadata": {},
   "source": [
    "In the Sidereus Nuncius [1] Galileo notes his observations of the moons of Jupyter, which led him to the conclusion that earth orbits around the sun. Galileos notes include data (his drawings), metadata (time, weather, telescope properties) and text in the form of methods, analysis, and conclusions [2]. And that is what todays jupter notebooks are about. Sharing a scientific work based on data, bringing everything together in one document:\n",
    "* data and metadata\n",
    "* code applied to the data\n",
    "* text \n",
    "* visualization of the data"
   ]
  },
  {
   "cell_type": "markdown",
   "metadata": {},
   "source": [
    "## What can it do?"
   ]
  },
  {
   "cell_type": "markdown",
   "metadata": {},
   "source": [
    "* You can write rich-text using markdown or html. You can also include images and other media.\n",
    "* You can display equations using inline latex\n",
    "* You can write and execute code in different programming languages, including julia, python and R\n",
    "* You can run shell commands and install software \n",
    "* You can use widgets and interactive tables and plot\n",
    "* notebooks + python and python libraries make it easy to load and process data\n",
    "* You can save and share the notebook file\n",
    "* You can run locally, on a server or in the cloud\n",
    "* You can export a notebook as slideshows, latex or pdf-documents"
   ]
  },
  {
   "cell_type": "markdown",
   "metadata": {},
   "source": [
    "## OK, how do I do that?"
   ]
  },
  {
   "cell_type": "markdown",
   "metadata": {},
   "source": [
    "Here are the basics. \n",
    "* A notebook is made up of cells.\n",
    "    * Each cell has one of 3 possible types\n",
    "        * **Markdown**\n",
    "        * **Code**\n",
    "        * **Raw**\n",
    "        \n",
    "You do not see the cells when you look at the notebook. However when you **click** somewhere into the notebook, you will see a blue bar at the left, that shows the extent of the cell into which you clicked. When you **double-click** a cell, you'll switch it into edit mode. You get back to display mode by hitting **shift+enter**. If you do this on a code cell the code is executed and if it has any output, the output is displayed below the code. When you hit *shift-enter* on a cell the next cell will become the new active cell. If the cell was the last cell in the notebook, a new cell will automatically be inserted."
   ]
  },
  {
   "cell_type": "markdown",
   "metadata": {},
   "source": [
    "You can either use the menu at the top, to insert and run cells and to save the notebook, or when you are in edit (enter or double-click) or command mode (esc), keyboard shortcuts. Here are some of the most important:\n",
    "\n",
    "* enter - enter edit mode of the active cell\n",
    "* esc - go to command mode\n",
    "* shift-enter - execute the active cell and display the result\n",
    "* when in command mode:\n",
    "    * m - switch the selected cell to *markdown*\n",
    "    * y - switch the selected cell to *code*\n",
    "    * d - delete the selected cell\n",
    "    * a - insert a new cell above the selected cell\n",
    "    * b - insert a new cell below the selected cell\n",
    "    * ctrl + z - undo\n",
    "    * ctrl + y - redo\n",
    "    * ctrl + s - save the notebook\n",
    "    \n",
    "You can get along with just the shotcuts above but for your convenience [here](https://cheatography.com/weidadeyue/cheat-sheets/jupyter-notebook/pdf_bw/) are more keyboard shortcuts."
   ]
  },
  {
   "cell_type": "markdown",
   "metadata": {},
   "source": [
    "### Raw cells"
   ]
  },
  {
   "cell_type": "markdown",
   "metadata": {},
   "source": [
    "Raw cells are useful when converting a notebook into another document, for example a latex-document. We will note talk about them here, you can savely ignore there existence for now."
   ]
  },
  {
   "cell_type": "markdown",
   "metadata": {},
   "source": [
    "### Markdown cells"
   ]
  },
  {
   "cell_type": "markdown",
   "metadata": {},
   "source": [
    "Markdown is easy. You can switch any of the text cells in this notebook to edit-mode and see how it is done. Here are some markdown features:\n",
    "***\n",
    "* \\# makes a line a heading of level 1\n",
    "# A first level heading\n",
    "* \\#\\# makes a line a heading of level 2\n",
    "## A second level heading\n",
    "* an empty line begins a new paragraph\n",
    "* \\* + space starts a bullet-list, use indentation for multiple levels\n",
    "    * item 1.1\n",
    "    * item 1.2\n",
    "        * item 2.1\n",
    "        * itme 2.2   \n",
    "* Lines starting with 1. make numbered lists\n",
    "1. item 1\n",
    "1. item 2\n",
    "    1. item 2A\n",
    "    1. item 2B\n",
    "* emphasis\n",
    "    * \\*text\\* makes text emphasized, rendered *in italics*\n",
    "    * \\*\\*text\\*\\* makes strong emphazied text, rendered **as bold text**\n",
    "* \\[text\\]\\(url\\) makes a link, for example [jupyter.org](https://jupyter.org/)\n",
    "* \\!\\[text\\]\\(url\\) displays the image at the url, for example: <center><div style=\"width:200px\">![atoms](https://upload.wikimedia.org/wikipedia/commons/8/80/Atom_Diagram.svg)</center>\n",
    "***    \n",
    "That's it, you can find more about markdown [here](https://sourceforge.net/p/jupiter/wiki/markdown_syntax/)."
   ]
  },
  {
   "cell_type": "markdown",
   "metadata": {},
   "source": [
    "### Equations with latex"
   ]
  },
  {
   "cell_type": "markdown",
   "metadata": {},
   "source": [
    "In markdown cells you can insert equations written in the latex format, by putting the text between \\$ signs. \n",
    "For example:\n",
    "\n",
    "$ X_s(f)\\ \\triangleq \\sum_{k=-\\infty}^{\\infty} X\\left(f - k f_s\\right) = \\sum_{n=-\\infty}^{\\infty} T\\cdot x(nT)\\ e^{-i 2\\pi n T f} $\n",
    "\n",
    "That looks pretty complicated, but it's not all this bad. Here are some elements\n",
    "\n",
    "* _ makes a subscript $X_s$\n",
    "* ^ makes an exponent, for example e^{2 \\cdot x} gives $e^{2 \\cdot x}$\n",
    "* different parts can be separated by {}, for example X_{2 \\cdot i} gives: $X_{2 \\cdot i}$\n",
    "* functions and special symbols start with a backslash (\\\\), for example \\\\pi gives $\\pi$ and \\\\sin(x) gives $\\sin(x)$\n",
    "* fractions are written as \\\\frac\\{1\\}\\{n\\}: $\\frac{1}{n}$"
   ]
  },
  {
   "cell_type": "markdown",
   "metadata": {},
   "source": [
    "Use \\\\$eqn\\\\$ for equations within a text  (inline equations) and equations between \\\\begin and \\\\end for equations on their own. For example: "
   ]
  },
  {
   "cell_type": "markdown",
   "metadata": {},
   "source": [
    "\\begin{align}\n",
    "\\dot{x} & = \\sigma(y-x) \\\\\n",
    "\\dot{y} & = \\rho x - y - xz \\\\\n",
    "\\dot{z} & = -\\beta z + xy\n",
    "\\end{align}"
   ]
  },
  {
   "cell_type": "markdown",
   "metadata": {},
   "source": [
    "You can find more examples [here](https://jupyter-notebook.readthedocs.io/en/stable/examples/Notebook/Typesetting%20Equations.html)."
   ]
  },
  {
   "cell_type": "markdown",
   "metadata": {},
   "source": [
    "### Code cells"
   ]
  },
  {
   "cell_type": "markdown",
   "metadata": {},
   "source": [
    "In the upper-right corner of the notebook, you can select the ``kernel``. By selecting the ``kernel`` you tell jupyter by which programming language code-cells will be interpreted. In our case the kernel should be ``Python 3``."
   ]
  },
  {
   "cell_type": "markdown",
   "metadata": {},
   "source": [
    "A code cell displays the result of the last expresson in the cell as an output (if any) when executed."
   ]
  },
  {
   "cell_type": "code",
   "execution_count": 2,
   "metadata": {},
   "outputs": [
    {
     "data": {
      "text/plain": [
       "4"
      ]
     },
     "execution_count": 2,
     "metadata": {},
     "output_type": "execute_result"
    }
   ],
   "source": [
    "2 + 2"
   ]
  },
  {
   "cell_type": "markdown",
   "metadata": {},
   "source": [
    "It also displays output created by the code, for example by the print command."
   ]
  },
  {
   "cell_type": "code",
   "execution_count": 3,
   "metadata": {},
   "outputs": [
    {
     "name": "stdout",
     "output_type": "stream",
     "text": [
      "Hello\n"
     ]
    }
   ],
   "source": [
    "print ('Hello')"
   ]
  },
  {
   "cell_type": "markdown",
   "metadata": {},
   "source": [
    "There are widgets, but if you only need a simple input from the user, you can use:"
   ]
  },
  {
   "cell_type": "code",
   "execution_count": 5,
   "metadata": {},
   "outputs": [
    {
     "name": "stdin",
     "output_type": "stream",
     "text": [
      "What's your name? Volker\n"
     ]
    },
    {
     "name": "stdout",
     "output_type": "stream",
     "text": [
      "Hello Volker\n"
     ]
    }
   ],
   "source": [
    "name = input(\"What's your name?\")\n",
    "print(f\"Hello {name}\")"
   ]
  },
  {
   "cell_type": "markdown",
   "metadata": {},
   "source": [
    "You will learn about python in the remainder of this course."
   ]
  },
  {
   "cell_type": "markdown",
   "metadata": {},
   "source": [
    "#### Cell and line magic"
   ]
  },
  {
   "cell_type": "markdown",
   "metadata": {},
   "source": [
    "A line in a code cell that begins with %% is a cell magic command. We can for example measure the time the execution of a cell takes with the cell magic %%time. The next cell calculates the sum of all the numbers from 1 to 1000000. On my computer that takes about 6 and a half seconds. You better do not print the result, it is long. "
   ]
  },
  {
   "cell_type": "code",
   "execution_count": 11,
   "metadata": {},
   "outputs": [
    {
     "name": "stdout",
     "output_type": "stream",
     "text": [
      "CPU times: user 6.31 s, sys: 23.7 ms, total: 6.34 s\n",
      "Wall time: 6.32 s\n"
     ]
    }
   ],
   "source": [
    "%%time\n",
    "import math \n",
    "a = math.factorial(1000000)"
   ]
  },
  {
   "cell_type": "markdown",
   "metadata": {},
   "source": [
    "The line magic %time measures the execution time of a single line."
   ]
  },
  {
   "cell_type": "code",
   "execution_count": 13,
   "metadata": {},
   "outputs": [
    {
     "name": "stdout",
     "output_type": "stream",
     "text": [
      "CPU times: user 3.64 ms, sys: 0 ns, total: 3.64 ms\n",
      "Wall time: 3.54 ms\n",
      "CPU times: user 136 ms, sys: 0 ns, total: 136 ms\n",
      "Wall time: 135 ms\n",
      "CPU times: user 6.3 s, sys: 23.9 ms, total: 6.32 s\n",
      "Wall time: 6.29 s\n"
     ]
    }
   ],
   "source": [
    "%time a = math.factorial(10000)\n",
    "%time b = math.factorial(100000)\n",
    "%time c = math.factorial(1000000)"
   ]
  },
  {
   "cell_type": "markdown",
   "metadata": {},
   "source": [
    "You can learn more about magic command [here](https://ipython.readthedocs.io/en/stable/interactive/magics.html)."
   ]
  },
  {
   "cell_type": "markdown",
   "metadata": {},
   "source": [
    "### Shell commands"
   ]
  },
  {
   "cell_type": "markdown",
   "metadata": {},
   "source": [
    "If a line in a cell begins with a !, it is not send to the kernel, but interpreted by the command shell of the operating system. We can use this for example to install python modules or to move files around.\n",
    "\n",
    "One way to install additional packages and modules is by using the python package manager ``pip``. \n",
    "\n",
    "In the next cell, we install the packages graphviz and ann_visualizer. They provide a method to draw the architecture of neural networks. "
   ]
  },
  {
   "cell_type": "code",
   "execution_count": 28,
   "metadata": {},
   "outputs": [
    {
     "name": "stdout",
     "output_type": "stream",
     "text": [
      "Collecting graphviz\n",
      "\u001b[33m  Cache entry deserialization failed, entry ignored\u001b[0m\n",
      "  Downloading https://files.pythonhosted.org/packages/83/cc/c62100906d30f95d46451c15eb407da7db201e30f42008f3643945910373/graphviz-0.14-py2.py3-none-any.whl\n",
      "Installing collected packages: graphviz\n",
      "Successfully installed graphviz-0.14\n",
      "Collecting ann_visualizer\n",
      "  Downloading https://files.pythonhosted.org/packages/db/51/157be500337fba347e32711aaf9f11c1ba9e1162f486a1d708b4ae594ea4/ann_visualizer-2.5.tar.gz\n",
      "Building wheels for collected packages: ann-visualizer\n",
      "  Running setup.py bdist_wheel for ann-visualizer ... \u001b[?25ldone\n",
      "\u001b[?25h  Stored in directory: /home/baecker/.cache/pip/wheels/b6/b4/4e/d92f50c9c4f004cf315a0e0fcd455486bd799c50fe80cf1f5d\n",
      "Successfully built ann-visualizer\n",
      "Installing collected packages: ann-visualizer\n",
      "Successfully installed ann-visualizer-2.5\n"
     ]
    }
   ],
   "source": [
    "!pip3 install graphviz\n",
    "!pip3 install ann_visualizer"
   ]
  },
  {
   "cell_type": "markdown",
   "metadata": {},
   "source": [
    "We create a simple neural network and write its visualization to a pdf-file. We display the pdf-file in the notebook."
   ]
  },
  {
   "cell_type": "code",
   "execution_count": 32,
   "metadata": {},
   "outputs": [
    {
     "data": {
      "text/html": [
       "\n",
       "        <iframe\n",
       "            width=\"800\"\n",
       "            height=\"400\"\n",
       "            src=\"./network.gv.pdf\"\n",
       "            frameborder=\"0\"\n",
       "            allowfullscreen\n",
       "        ></iframe>\n",
       "        "
      ],
      "text/plain": [
       "<IPython.lib.display.IFrame at 0x7faf9ae83c90>"
      ]
     },
     "execution_count": 32,
     "metadata": {},
     "output_type": "execute_result"
    }
   ],
   "source": [
    "from IPython.display import IFrame\n",
    "from keras.models import Sequential\n",
    "from keras.layers import Dense\n",
    "from ann_visualizer.visualize import ann_viz;\n",
    "N=3\n",
    "model = Sequential()\n",
    "model.add(Dense(N*N-1, input_dim=(N*N), activation='relu'))\n",
    "model.add(Dense(1, activation='sigmoid'))\n",
    "ann_viz(model, view=False)\n",
    "\n",
    "IFrame(\"./network.gv.pdf\", width=800, height=400)"
   ]
  },
  {
   "cell_type": "markdown",
   "metadata": {},
   "source": [
    "Here are some usefull shell commands when running on linux:\n",
    "\n",
    "|command|description|\n",
    "|---|---|\n",
    "| pwd      | print the working directory |\n",
    "| cd <dir> | change the working directory |\n",
    "| ls       | list the content of a directory |\n",
    "| cat <file> | concatenate and print data |\n",
    "| cp <path1> <path2> |  copy a file |\n",
    "| man <command> | display the manual page a command |\n",
    "    \n",
    "You can find more information about linux shell commands [here](https://www.interserver.net/tips/kb/basic-shell-commands-linux-linux-beginners/)."
   ]
  },
  {
   "cell_type": "code",
   "execution_count": 33,
   "metadata": {},
   "outputs": [
    {
     "name": "stdout",
     "output_type": "stream",
     "text": [
      "/media/baecker/DONNEES1/programs/fiji-linux64/Fiji.app/mri-tools/python_in_an_hour\n",
      "total 96\n",
      "drwxr-xr-x  5 baecker baecker  4096 avril 26 04:06  .\n",
      "drwxr-xr-x 12 baecker baecker  4096 avril 25 00:19  ..\n",
      "-rw-r--r--  1 baecker baecker    71 avril 25 03:04 '='\n",
      "drwxr-xr-x  8 baecker baecker  4096 avril 25 00:19  .git\n",
      "drwxr-xr-x  2 baecker baecker  4096 avril 26 03:51  .ipynb_checkpoints\n",
      "drwxr-xr-x  7 baecker baecker  4096 avril 25 01:12  ipython-turtle-widget\n",
      "-rw-r--r--  1 baecker baecker  7048 avril 25 00:19  LICENSE\n",
      "-rw-r--r--  1 baecker baecker  2376 avril 26 03:49  network.gv\n",
      "-rw-r--r--  1 baecker baecker 18548 avril 26 03:49  network.gv.pdf\n",
      "-rw-r--r--  1 baecker baecker 33862 avril 26 04:06  PIAH-01-jupyter.ipynb\n",
      "-rw-r--r--  1 baecker baecker   104 avril 25 00:19  README.md\n"
     ]
    }
   ],
   "source": [
    "!pwd\n",
    "!ls -al"
   ]
  },
  {
   "cell_type": "markdown",
   "metadata": {},
   "source": [
    "## Loading and displaying data from excel"
   ]
  },
  {
   "cell_type": "markdown",
   "metadata": {},
   "source": [
    "To finish this introduction, an example to demonstrate how easy it is to load and display data in jupyter notebooks. We load an excel file from the website of the French INSEE institute, containing the evolution of greenhouse gas emissions under the Kyoto Protocol from 1990 to 2018. \n",
    "\n",
    "The next loads the content of the excel file and displays a part of it as a table."
   ]
  },
  {
   "cell_type": "code",
   "execution_count": 47,
   "metadata": {},
   "outputs": [
    {
     "data": {
      "text/html": [
       "<div>\n",
       "<style scoped>\n",
       "    .dataframe tbody tr th:only-of-type {\n",
       "        vertical-align: middle;\n",
       "    }\n",
       "\n",
       "    .dataframe tbody tr th {\n",
       "        vertical-align: top;\n",
       "    }\n",
       "\n",
       "    .dataframe thead th {\n",
       "        text-align: right;\n",
       "    }\n",
       "</style>\n",
       "<table border=\"1\" class=\"dataframe\">\n",
       "  <thead>\n",
       "    <tr style=\"text-align: right;\">\n",
       "      <th></th>\n",
       "      <th>Année</th>\n",
       "      <th>Taux d'évolution</th>\n",
       "    </tr>\n",
       "  </thead>\n",
       "  <tbody>\n",
       "    <tr>\n",
       "      <th>4</th>\n",
       "      <td>1991</td>\n",
       "      <td>4.9469</td>\n",
       "    </tr>\n",
       "    <tr>\n",
       "      <th>5</th>\n",
       "      <td>1992</td>\n",
       "      <td>2.81111</td>\n",
       "    </tr>\n",
       "    <tr>\n",
       "      <th>6</th>\n",
       "      <td>1993</td>\n",
       "      <td>-1.167</td>\n",
       "    </tr>\n",
       "    <tr>\n",
       "      <th>7</th>\n",
       "      <td>1994</td>\n",
       "      <td>-2.33197</td>\n",
       "    </tr>\n",
       "    <tr>\n",
       "      <th>8</th>\n",
       "      <td>1995</td>\n",
       "      <td>-0.901934</td>\n",
       "    </tr>\n",
       "    <tr>\n",
       "      <th>9</th>\n",
       "      <td>1996</td>\n",
       "      <td>2.26261</td>\n",
       "    </tr>\n",
       "    <tr>\n",
       "      <th>10</th>\n",
       "      <td>1997</td>\n",
       "      <td>0.913283</td>\n",
       "    </tr>\n",
       "    <tr>\n",
       "      <th>11</th>\n",
       "      <td>1998</td>\n",
       "      <td>3.42333</td>\n",
       "    </tr>\n",
       "    <tr>\n",
       "      <th>12</th>\n",
       "      <td>1999</td>\n",
       "      <td>1.9635</td>\n",
       "    </tr>\n",
       "  </tbody>\n",
       "</table>\n",
       "</div>"
      ],
      "text/plain": [
       "   Année Taux d'évolution\n",
       "4   1991           4.9469\n",
       "5   1992          2.81111\n",
       "6   1993           -1.167\n",
       "7   1994         -2.33197\n",
       "8   1995        -0.901934\n",
       "9   1996          2.26261\n",
       "10  1997         0.913283\n",
       "11  1998          3.42333\n",
       "12  1999           1.9635"
      ]
     },
     "execution_count": 47,
     "metadata": {},
     "output_type": "execute_result"
    }
   ],
   "source": [
    "import pandas as pd\n",
    "ts = pd.read_excel('https://www.insee.fr/fr/statistiques/fichier/4277613/T20F023.xlsx', index_col=0)\n",
    "ts = pd.DataFrame(ts).reset_index()\n",
    "ts.columns = ['Année', \"Taux d'évolution\"]\n",
    "ts = ts[3:]\n",
    "ts[1:10]"
   ]
  },
  {
   "cell_type": "markdown",
   "metadata": {},
   "source": [
    "And now we plot the data as an interactive graph."
   ]
  },
  {
   "cell_type": "code",
   "execution_count": 53,
   "metadata": {},
   "outputs": [
    {
     "data": {
      "text/html": [
       "\n",
       "\n",
       "<style>\n",
       "\n",
       "</style>\n",
       "\n",
       "<div id=\"fig_el22621403392748651046489536835\"></div>\n",
       "<script>\n",
       "function mpld3_load_lib(url, callback){\n",
       "  var s = document.createElement('script');\n",
       "  s.src = url;\n",
       "  s.async = true;\n",
       "  s.onreadystatechange = s.onload = callback;\n",
       "  s.onerror = function(){console.warn(\"failed to load library \" + url);};\n",
       "  document.getElementsByTagName(\"head\")[0].appendChild(s);\n",
       "}\n",
       "\n",
       "if(typeof(mpld3) !== \"undefined\" && mpld3._mpld3IsLoaded){\n",
       "   // already loaded: just create the figure\n",
       "   !function(mpld3){\n",
       "       \n",
       "       mpld3.draw_figure(\"fig_el22621403392748651046489536835\", {\"width\": 864.0, \"height\": 288.0, \"axes\": [{\"bbox\": [0.125, 0.125, 0.775, 0.755], \"xlim\": [1.5999999999999999, 32.4], \"ylim\": [-19.941045611459476, 6.132035501313186], \"xdomain\": [1.5999999999999999, 32.4], \"ydomain\": [-19.941045611459476, 6.132035501313186], \"xscale\": \"linear\", \"yscale\": \"linear\", \"axes\": [{\"position\": \"bottom\", \"nticks\": 8, \"tickvalues\": null, \"tickformat\": null, \"scale\": \"linear\", \"fontsize\": 10.0, \"grid\": {\"gridOn\": false}, \"visible\": true}, {\"position\": \"left\", \"nticks\": 7, \"tickvalues\": null, \"tickformat\": null, \"scale\": \"linear\", \"fontsize\": 10.0, \"grid\": {\"gridOn\": false}, \"visible\": true}], \"axesbg\": \"#FFFFFF\", \"axesbgalpha\": null, \"zoomable\": true, \"id\": \"el2262140339278231824\", \"lines\": [{\"data\": \"data01\", \"xindex\": 0, \"yindex\": 1, \"coordinates\": \"data\", \"id\": \"el2262140339279026960\", \"color\": \"#1F77B4\", \"linewidth\": 1.5, \"dasharray\": \"none\", \"alpha\": 1, \"zorder\": 2, \"drawstyle\": \"default\"}, {\"data\": \"data02\", \"xindex\": 0, \"yindex\": 1, \"coordinates\": \"axes\", \"id\": \"el2262140339278881808\", \"color\": \"#1F77B4\", \"linewidth\": 1.5, \"dasharray\": \"none\", \"alpha\": 1, \"zorder\": 1000002.0, \"drawstyle\": \"default\"}], \"paths\": [{\"data\": \"data03\", \"xindex\": 0, \"yindex\": 1, \"coordinates\": \"axes\", \"pathcodes\": [\"M\", \"L\", \"S\", \"L\", \"S\", \"L\", \"S\", \"L\", \"S\", \"Z\"], \"id\": \"el2262140339279026384\", \"dasharray\": \"none\", \"alpha\": 0.8, \"facecolor\": \"#FFFFFF\", \"edgecolor\": \"#CCCCCC\", \"edgewidth\": 1.0, \"zorder\": 1000000.0}], \"markers\": [], \"texts\": [{\"text\": \"Plotting data from an excel file\", \"position\": [0.49999999999999994, 1.0275938189845473], \"coordinates\": \"axes\", \"h_anchor\": \"middle\", \"v_baseline\": \"auto\", \"rotation\": -0.0, \"fontsize\": 12.0, \"color\": \"#000000\", \"alpha\": 1, \"zorder\": 3, \"id\": \"el2262140339278100688\"}, {\"text\": \"Taux d'\\u00e9volution\", \"position\": [0.8624411962365591, 0.9218175128771156], \"coordinates\": \"axes\", \"h_anchor\": \"start\", \"v_baseline\": \"auto\", \"rotation\": -0.0, \"fontsize\": 10.0, \"color\": \"#000000\", \"alpha\": 1, \"zorder\": 1000003.0, \"id\": \"el2262140339278881104\"}], \"collections\": [], \"images\": [], \"sharex\": [], \"sharey\": []}], \"data\": {\"data01\": [[3.0, 0.0], [4.0, 4.94689545073261], [5.0, 2.81110657235653], [6.0, -1.16699551016454], [7.0, -2.33197173171971], [8.0, -0.901933955050638], [9.0, 2.26260525470037], [10.0, 0.913283371559848], [11.0, 3.42333192995472], [12.0, 1.96350401430325], [13.0, 0.802906251800084], [14.0, 1.68096825576032], [15.0, 0.446086704035298], [16.0, 1.29333097963495], [17.0, 0.976305966599833], [18.0, 1.24176743384177], [19.0, -1.01782741370849], [20.0, -2.89320554608765], [21.0, -4.08976000615584], [22.0, -7.75333869872137], [23.0, -6.61015817170197], [24.0, -11.4133061510805], [25.0, -11.4412609623467], [26.0, -11.4246677269959], [27.0, -16.9969646093217], [28.0, -16.0929996836076], [29.0, -15.9515200140607], [30.0, -15.230992172714], [31.0, -18.7559055608789], [32.0, NaN], [33.0, NaN], [34.0, NaN]], \"data02\": [[0.8206251866786141, 0.9379139072847682], [0.8504937649342891, 0.9379139072847682]], \"data03\": [[0.8176383288530465, 0.8942236938925681], [0.9895459976105138, 0.8942236938925681], [0.9925328554360812, 0.8942236938925681], [0.9925328554360812, 0.9034216335540839], [0.9925328554360812, 0.9678072111846947], [0.9925328554360812, 0.9770051508462105], [0.9895459976105138, 0.9770051508462105], [0.8176383288530465, 0.9770051508462105], [0.814651471027479, 0.9770051508462105], [0.814651471027479, 0.9678072111846947], [0.814651471027479, 0.9034216335540839], [0.814651471027479, 0.8942236938925681], [0.8176383288530465, 0.8942236938925681]]}, \"id\": \"el2262140339274865104\", \"plugins\": [{\"type\": \"reset\"}, {\"type\": \"zoom\", \"button\": true, \"enabled\": false}, {\"type\": \"boxzoom\", \"button\": true, \"enabled\": false}]});\n",
       "   }(mpld3);\n",
       "}else if(typeof define === \"function\" && define.amd){\n",
       "   // require.js is available: use it to load d3/mpld3\n",
       "   require.config({paths: {d3: \"https://mpld3.github.io/js/d3.v3.min\"}});\n",
       "   require([\"d3\"], function(d3){\n",
       "      window.d3 = d3;\n",
       "      mpld3_load_lib(\"https://mpld3.github.io/js/mpld3.v0.3.js\", function(){\n",
       "         \n",
       "         mpld3.draw_figure(\"fig_el22621403392748651046489536835\", {\"width\": 864.0, \"height\": 288.0, \"axes\": [{\"bbox\": [0.125, 0.125, 0.775, 0.755], \"xlim\": [1.5999999999999999, 32.4], \"ylim\": [-19.941045611459476, 6.132035501313186], \"xdomain\": [1.5999999999999999, 32.4], \"ydomain\": [-19.941045611459476, 6.132035501313186], \"xscale\": \"linear\", \"yscale\": \"linear\", \"axes\": [{\"position\": \"bottom\", \"nticks\": 8, \"tickvalues\": null, \"tickformat\": null, \"scale\": \"linear\", \"fontsize\": 10.0, \"grid\": {\"gridOn\": false}, \"visible\": true}, {\"position\": \"left\", \"nticks\": 7, \"tickvalues\": null, \"tickformat\": null, \"scale\": \"linear\", \"fontsize\": 10.0, \"grid\": {\"gridOn\": false}, \"visible\": true}], \"axesbg\": \"#FFFFFF\", \"axesbgalpha\": null, \"zoomable\": true, \"id\": \"el2262140339278231824\", \"lines\": [{\"data\": \"data01\", \"xindex\": 0, \"yindex\": 1, \"coordinates\": \"data\", \"id\": \"el2262140339279026960\", \"color\": \"#1F77B4\", \"linewidth\": 1.5, \"dasharray\": \"none\", \"alpha\": 1, \"zorder\": 2, \"drawstyle\": \"default\"}, {\"data\": \"data02\", \"xindex\": 0, \"yindex\": 1, \"coordinates\": \"axes\", \"id\": \"el2262140339278881808\", \"color\": \"#1F77B4\", \"linewidth\": 1.5, \"dasharray\": \"none\", \"alpha\": 1, \"zorder\": 1000002.0, \"drawstyle\": \"default\"}], \"paths\": [{\"data\": \"data03\", \"xindex\": 0, \"yindex\": 1, \"coordinates\": \"axes\", \"pathcodes\": [\"M\", \"L\", \"S\", \"L\", \"S\", \"L\", \"S\", \"L\", \"S\", \"Z\"], \"id\": \"el2262140339279026384\", \"dasharray\": \"none\", \"alpha\": 0.8, \"facecolor\": \"#FFFFFF\", \"edgecolor\": \"#CCCCCC\", \"edgewidth\": 1.0, \"zorder\": 1000000.0}], \"markers\": [], \"texts\": [{\"text\": \"Plotting data from an excel file\", \"position\": [0.49999999999999994, 1.0275938189845473], \"coordinates\": \"axes\", \"h_anchor\": \"middle\", \"v_baseline\": \"auto\", \"rotation\": -0.0, \"fontsize\": 12.0, \"color\": \"#000000\", \"alpha\": 1, \"zorder\": 3, \"id\": \"el2262140339278100688\"}, {\"text\": \"Taux d'\\u00e9volution\", \"position\": [0.8624411962365591, 0.9218175128771156], \"coordinates\": \"axes\", \"h_anchor\": \"start\", \"v_baseline\": \"auto\", \"rotation\": -0.0, \"fontsize\": 10.0, \"color\": \"#000000\", \"alpha\": 1, \"zorder\": 1000003.0, \"id\": \"el2262140339278881104\"}], \"collections\": [], \"images\": [], \"sharex\": [], \"sharey\": []}], \"data\": {\"data01\": [[3.0, 0.0], [4.0, 4.94689545073261], [5.0, 2.81110657235653], [6.0, -1.16699551016454], [7.0, -2.33197173171971], [8.0, -0.901933955050638], [9.0, 2.26260525470037], [10.0, 0.913283371559848], [11.0, 3.42333192995472], [12.0, 1.96350401430325], [13.0, 0.802906251800084], [14.0, 1.68096825576032], [15.0, 0.446086704035298], [16.0, 1.29333097963495], [17.0, 0.976305966599833], [18.0, 1.24176743384177], [19.0, -1.01782741370849], [20.0, -2.89320554608765], [21.0, -4.08976000615584], [22.0, -7.75333869872137], [23.0, -6.61015817170197], [24.0, -11.4133061510805], [25.0, -11.4412609623467], [26.0, -11.4246677269959], [27.0, -16.9969646093217], [28.0, -16.0929996836076], [29.0, -15.9515200140607], [30.0, -15.230992172714], [31.0, -18.7559055608789], [32.0, NaN], [33.0, NaN], [34.0, NaN]], \"data02\": [[0.8206251866786141, 0.9379139072847682], [0.8504937649342891, 0.9379139072847682]], \"data03\": [[0.8176383288530465, 0.8942236938925681], [0.9895459976105138, 0.8942236938925681], [0.9925328554360812, 0.8942236938925681], [0.9925328554360812, 0.9034216335540839], [0.9925328554360812, 0.9678072111846947], [0.9925328554360812, 0.9770051508462105], [0.9895459976105138, 0.9770051508462105], [0.8176383288530465, 0.9770051508462105], [0.814651471027479, 0.9770051508462105], [0.814651471027479, 0.9678072111846947], [0.814651471027479, 0.9034216335540839], [0.814651471027479, 0.8942236938925681], [0.8176383288530465, 0.8942236938925681]]}, \"id\": \"el2262140339274865104\", \"plugins\": [{\"type\": \"reset\"}, {\"type\": \"zoom\", \"button\": true, \"enabled\": false}, {\"type\": \"boxzoom\", \"button\": true, \"enabled\": false}]});\n",
       "      });\n",
       "    });\n",
       "}else{\n",
       "    // require.js not available: dynamically load d3 & mpld3\n",
       "    mpld3_load_lib(\"https://mpld3.github.io/js/d3.v3.min.js\", function(){\n",
       "         mpld3_load_lib(\"https://mpld3.github.io/js/mpld3.v0.3.js\", function(){\n",
       "                 \n",
       "                 mpld3.draw_figure(\"fig_el22621403392748651046489536835\", {\"width\": 864.0, \"height\": 288.0, \"axes\": [{\"bbox\": [0.125, 0.125, 0.775, 0.755], \"xlim\": [1.5999999999999999, 32.4], \"ylim\": [-19.941045611459476, 6.132035501313186], \"xdomain\": [1.5999999999999999, 32.4], \"ydomain\": [-19.941045611459476, 6.132035501313186], \"xscale\": \"linear\", \"yscale\": \"linear\", \"axes\": [{\"position\": \"bottom\", \"nticks\": 8, \"tickvalues\": null, \"tickformat\": null, \"scale\": \"linear\", \"fontsize\": 10.0, \"grid\": {\"gridOn\": false}, \"visible\": true}, {\"position\": \"left\", \"nticks\": 7, \"tickvalues\": null, \"tickformat\": null, \"scale\": \"linear\", \"fontsize\": 10.0, \"grid\": {\"gridOn\": false}, \"visible\": true}], \"axesbg\": \"#FFFFFF\", \"axesbgalpha\": null, \"zoomable\": true, \"id\": \"el2262140339278231824\", \"lines\": [{\"data\": \"data01\", \"xindex\": 0, \"yindex\": 1, \"coordinates\": \"data\", \"id\": \"el2262140339279026960\", \"color\": \"#1F77B4\", \"linewidth\": 1.5, \"dasharray\": \"none\", \"alpha\": 1, \"zorder\": 2, \"drawstyle\": \"default\"}, {\"data\": \"data02\", \"xindex\": 0, \"yindex\": 1, \"coordinates\": \"axes\", \"id\": \"el2262140339278881808\", \"color\": \"#1F77B4\", \"linewidth\": 1.5, \"dasharray\": \"none\", \"alpha\": 1, \"zorder\": 1000002.0, \"drawstyle\": \"default\"}], \"paths\": [{\"data\": \"data03\", \"xindex\": 0, \"yindex\": 1, \"coordinates\": \"axes\", \"pathcodes\": [\"M\", \"L\", \"S\", \"L\", \"S\", \"L\", \"S\", \"L\", \"S\", \"Z\"], \"id\": \"el2262140339279026384\", \"dasharray\": \"none\", \"alpha\": 0.8, \"facecolor\": \"#FFFFFF\", \"edgecolor\": \"#CCCCCC\", \"edgewidth\": 1.0, \"zorder\": 1000000.0}], \"markers\": [], \"texts\": [{\"text\": \"Plotting data from an excel file\", \"position\": [0.49999999999999994, 1.0275938189845473], \"coordinates\": \"axes\", \"h_anchor\": \"middle\", \"v_baseline\": \"auto\", \"rotation\": -0.0, \"fontsize\": 12.0, \"color\": \"#000000\", \"alpha\": 1, \"zorder\": 3, \"id\": \"el2262140339278100688\"}, {\"text\": \"Taux d'\\u00e9volution\", \"position\": [0.8624411962365591, 0.9218175128771156], \"coordinates\": \"axes\", \"h_anchor\": \"start\", \"v_baseline\": \"auto\", \"rotation\": -0.0, \"fontsize\": 10.0, \"color\": \"#000000\", \"alpha\": 1, \"zorder\": 1000003.0, \"id\": \"el2262140339278881104\"}], \"collections\": [], \"images\": [], \"sharex\": [], \"sharey\": []}], \"data\": {\"data01\": [[3.0, 0.0], [4.0, 4.94689545073261], [5.0, 2.81110657235653], [6.0, -1.16699551016454], [7.0, -2.33197173171971], [8.0, -0.901933955050638], [9.0, 2.26260525470037], [10.0, 0.913283371559848], [11.0, 3.42333192995472], [12.0, 1.96350401430325], [13.0, 0.802906251800084], [14.0, 1.68096825576032], [15.0, 0.446086704035298], [16.0, 1.29333097963495], [17.0, 0.976305966599833], [18.0, 1.24176743384177], [19.0, -1.01782741370849], [20.0, -2.89320554608765], [21.0, -4.08976000615584], [22.0, -7.75333869872137], [23.0, -6.61015817170197], [24.0, -11.4133061510805], [25.0, -11.4412609623467], [26.0, -11.4246677269959], [27.0, -16.9969646093217], [28.0, -16.0929996836076], [29.0, -15.9515200140607], [30.0, -15.230992172714], [31.0, -18.7559055608789], [32.0, NaN], [33.0, NaN], [34.0, NaN]], \"data02\": [[0.8206251866786141, 0.9379139072847682], [0.8504937649342891, 0.9379139072847682]], \"data03\": [[0.8176383288530465, 0.8942236938925681], [0.9895459976105138, 0.8942236938925681], [0.9925328554360812, 0.8942236938925681], [0.9925328554360812, 0.9034216335540839], [0.9925328554360812, 0.9678072111846947], [0.9925328554360812, 0.9770051508462105], [0.9895459976105138, 0.9770051508462105], [0.8176383288530465, 0.9770051508462105], [0.814651471027479, 0.9770051508462105], [0.814651471027479, 0.9678072111846947], [0.814651471027479, 0.9034216335540839], [0.814651471027479, 0.8942236938925681], [0.8176383288530465, 0.8942236938925681]]}, \"id\": \"el2262140339274865104\", \"plugins\": [{\"type\": \"reset\"}, {\"type\": \"zoom\", \"button\": true, \"enabled\": false}, {\"type\": \"boxzoom\", \"button\": true, \"enabled\": false}]});\n",
       "            })\n",
       "         });\n",
       "}\n",
       "</script>"
      ],
      "text/plain": [
       "<IPython.core.display.HTML object>"
      ]
     },
     "execution_count": 53,
     "metadata": {},
     "output_type": "execute_result"
    }
   ],
   "source": [
    "import mpld3\n",
    "axes = ts.plot(title=\"Plotting data from an excel file\", figsize=(12,4))\n",
    "mpld3.display()"
   ]
  },
  {
   "cell_type": "markdown",
   "metadata": {},
   "source": [
    "## Literature"
   ]
  },
  {
   "cell_type": "markdown",
   "metadata": {},
   "source": [
    "1. G. Galilei. Sidereus nuncius. Thomas Baglioni, 1610.\n",
    "\n",
    "2. Alyssa Goodman, Alberto Pepe, Alexander W. Blocker, Christine L. Borgman, Kyle Cranmer, Mercè Crosas, Rosanne Di Stefano, Yolanda Gil, Paul Groth, Margaret Hedstrom, David W. Hogg, Vinay Kashyap, Ashish Mahabal, Aneta Siemiginowska, Aleksandra Slavkovic. Ten Simple Rules for the Care and Feeding of Scientific Data. PLoS Computational Biology In press Public Library of Science, 2014. Link\n",
    "\n"
   ]
  }
 ],
 "metadata": {
  "kernelspec": {
   "display_name": "Python 3",
   "language": "python",
   "name": "python3"
  },
  "language_info": {
   "codemirror_mode": {
    "name": "ipython",
    "version": 3
   },
   "file_extension": ".py",
   "mimetype": "text/x-python",
   "name": "python",
   "nbconvert_exporter": "python",
   "pygments_lexer": "ipython3",
   "version": "3.7.6"
  }
 },
 "nbformat": 4,
 "nbformat_minor": 4
}
