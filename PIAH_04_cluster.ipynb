{
  "nbformat": 4,
  "nbformat_minor": 0,
  "metadata": {
    "colab": {
      "name": "Untitled1.ipynb",
      "provenance": []
    },
    "kernelspec": {
      "name": "python3",
      "display_name": "Python 3"
    },
    "language_info": {
      "name": "python"
    },
    "accelerator": "GPU",
    "gpuClass": "standard"
  },
  "cells": [
    {
      "cell_type": "markdown",
      "metadata": {
        "id": "7ASIxox8qxqA"
      },
      "source": [
        "Upload an image to the session storage, open it in python and display it!"
      ]
    },
    {
      "cell_type": "code",
      "metadata": {
        "id": "lZ3ECqgXT1VO"
      },
      "source": [
        "from PIL import Image\n",
        "image = Image.open('Pot104Cycle0096.jpg')\n",
        "display(image)"
      ],
      "execution_count": null,
      "outputs": []
    },
    {
      "cell_type": "markdown",
      "metadata": {
        "id": "bdJHZZgtrEm9"
      },
      "source": [
        "Get the image data as a 3D numpy array (x, y and cielab-channel) and display the shape of the array!"
      ]
    },
    {
      "cell_type": "code",
      "metadata": {
        "id": "5Vv3l-siUZim"
      },
      "source": [
        "from skimage import color\n",
        "data = color.rgb2lab(image)\n",
        "print(data.shape)"
      ],
      "execution_count": null,
      "outputs": []
    },
    {
      "cell_type": "markdown",
      "metadata": {
        "id": "qRVa911-rn-n"
      },
      "source": [
        "Randomly sample a percentage of the pixels in the image and get their rgb values as 3-tupels."
      ]
    },
    {
      "cell_type": "code",
      "metadata": {
        "id": "Zqpj8qtbVTvb"
      },
      "source": [
        "from sklearn.utils import shuffle\n",
        "percent = 10\n",
        "samples = shuffle(data.reshape(data.shape[0] * data.shape[1], data.shape[2]), \n",
        "                  n_samples=int((percent * data.shape[0] * data.shape[1]) / 100))\n",
        "samples[0:10]"
      ],
      "execution_count": null,
      "outputs": []
    },
    {
      "cell_type": "markdown",
      "metadata": {
        "id": "RhlOXIsdsQeT"
      },
      "source": [
        "Train the k-means-classifier on the random samples."
      ]
    },
    {
      "cell_type": "code",
      "metadata": {
        "id": "YkNJOQfwV_z7"
      },
      "source": [
        "from sklearn.cluster import KMeans\n",
        "nrClusters = 6\n",
        "kmeans = KMeans(n_clusters=nrClusters, max_iter=600, algorithm=\"full\").fit(samples)\n",
        "print(kmeans.cluster_centers_)\n",
        "kmeans.predict([(100, 100, 100), (10,20, 5)])"
      ],
      "execution_count": null,
      "outputs": []
    },
    {
      "cell_type": "markdown",
      "metadata": {
        "id": "4jTzUqJcsiDI"
      },
      "source": [
        "Use the trained k-means classifier to predict the classes of the pixels in the whole image. "
      ]
    },
    {
      "cell_type": "code",
      "metadata": {
        "id": "MEsj4YJC7Mkv"
      },
      "source": [
        "from matplotlib import cm\n",
        "import numpy as np\n",
        "labels = kmeans.predict(data.reshape(data.shape[0] * data.shape[1], data.shape[2])) / nrClusters\n",
        "labelImage = Image.fromarray(np.uint8(cm.Paired_r(labels.reshape(data.shape[0], data.shape[1]))*255))\n",
        "display(labelImage)"
      ],
      "execution_count": null,
      "outputs": []
    }
  ]
}