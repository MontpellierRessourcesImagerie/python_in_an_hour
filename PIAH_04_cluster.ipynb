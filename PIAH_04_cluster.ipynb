{
  "nbformat": 4,
  "nbformat_minor": 0,
  "metadata": {
    "colab": {
      "name": "Untitled1.ipynb",
      "provenance": [],
      "toc_visible": true
    },
    "kernelspec": {
      "name": "python3",
      "display_name": "Python 3"
    },
    "language_info": {
      "name": "python"
    }
  },
  "cells": [
    {
      "cell_type": "markdown",
      "metadata": {
        "id": "7ASIxox8qxqA"
      },
      "source": [
        "Upload an image to the session storage, open it in python and display it!"
      ]
    },
    {
      "cell_type": "code",
      "metadata": {
        "colab": {
          "base_uri": "https://localhost:8080/",
          "height": 297
        },
        "id": "lZ3ECqgXT1VO",
        "outputId": "2dbef261-6138-4b84-d530-a3493ef97da7"
      },
      "source": [
        "from PIL import Image\n",
        "image = Image.open('Pot104Cycle0090.jpg')\n",
        "display(image)"
      ],
      "execution_count": 9,
      "outputs": [
        {
          "output_type": "display_data",
          "data": {
            "image/png": "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
