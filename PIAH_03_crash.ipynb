{
  "nbformat": 4,
  "nbformat_minor": 0,
  "metadata": {
    "kernelspec": {
      "display_name": "OMERO Python 3",
      "language": "python",
      "name": "python3"
    },
    "language_info": {
      "codemirror_mode": {
        "name": "ipython",
        "version": 3
      },
      "file_extension": ".py",
      "mimetype": "text/x-python",
      "name": "python",
      "nbconvert_exporter": "python",
      "pygments_lexer": "ipython3",
      "version": "3.6.7"
    },
    "colab": {
      "name": "PIAH_03_crash.ipynb",
      "provenance": [],
      "toc_visible": true
    }
  },
  "cells": [
    {
      "cell_type": "markdown",
      "metadata": {
        "id": "XtwknOBUIupA"
      },
      "source": [
        "# A crash course in ~~brain surgery~~ python programming"
      ]
    },
    {
      "cell_type": "markdown",
      "metadata": {
        "id": "dFRzIajeIupC"
      },
      "source": [
        "## Text"
      ]
    },
    {
      "cell_type": "code",
      "metadata": {
        "id": "r95sVM_QIupC",
        "outputId": "cc32c908-ac5b-4b75-bfc5-b52d90b636d7",
        "colab": {
          "base_uri": "https://localhost:8080/",
          "height": 35
        }
      },
      "source": [
        "\"A text is a text\""
      ],
      "execution_count": 1,
      "outputs": [
        {
          "output_type": "execute_result",
          "data": {
            "application/vnd.google.colaboratory.intrinsic+json": {
              "type": "string"
            },
            "text/plain": [
              "'A text is a text'"
            ]
          },
          "metadata": {
            "tags": []
          },
          "execution_count": 1
        }
      ]
    },
    {
      "cell_type": "markdown",
      "metadata": {
        "id": "d_GaAgNSIupE"
      },
      "source": [
        "### Concatenation"
      ]
    },
    {
      "cell_type": "code",
      "metadata": {
        "id": "004bP5QRIupE",
        "outputId": "f854474b-ecdc-4e4d-e845-6ea9a52e2a7e",
        "colab": {
          "base_uri": "https://localhost:8080/",
          "height": 35
        }
      },
      "source": [
        "\"Hello\" + \" \" +\"World\""
      ],
      "execution_count": 2,
      "outputs": [
        {
          "output_type": "execute_result",
          "data": {
            "application/vnd.google.colaboratory.intrinsic+json": {
              "type": "string"
            },
            "text/plain": [
              "'Hello World'"
            ]
          },
          "metadata": {
            "tags": []
          },
          "execution_count": 2
        }
      ]
    },
    {
      "cell_type": "code",
      "metadata": {
        "id": "HOqaibL1IupE",
        "outputId": "cc489bcf-ed24-44d6-cc84-016363239eb6",
        "colab": {
          "base_uri": "https://localhost:8080/"
        }
      },
      "source": [
        "type(\"Hello\")   # The function type returns the type of its argument"
      ],
      "execution_count": 3,
      "outputs": [
        {
          "output_type": "execute_result",
          "data": {
            "text/plain": [
              "str"
            ]
          },
          "metadata": {
            "tags": []
          },
          "execution_count": 3
        }
      ]
    },
    {
      "cell_type": "markdown",
      "metadata": {
        "id": "4n41-JopIupF"
      },
      "source": [
        "## Numbers"
      ]
    },
    {
      "cell_type": "code",
      "metadata": {
        "id": "nhuscIKtIupF",
        "outputId": "4da3c21e-add1-44b3-9621-ac98921cfcfa",
        "colab": {
          "base_uri": "https://localhost:8080/"
        }
      },
      "source": [
        "5"
      ],
      "execution_count": 4,
      "outputs": [
        {
          "output_type": "execute_result",
          "data": {
            "text/plain": [
              "5"
            ]
          },
          "metadata": {
            "tags": []
          },
          "execution_count": 4
        }
      ]
    },
    {
      "cell_type": "code",
      "metadata": {
        "id": "TyQaxDXuIupG",
        "outputId": "df6358ac-4ef5-4349-d5d9-2c271daa401a",
        "colab": {
          "base_uri": "https://localhost:8080/"
        }
      },
      "source": [
        "5 + 3"
      ],
      "execution_count": 5,
      "outputs": [
        {
          "output_type": "execute_result",
          "data": {
            "text/plain": [
              "8"
            ]
          },
          "metadata": {
            "tags": []
          },
          "execution_count": 5
        }
      ]
    },
    {
      "cell_type": "code",
      "metadata": {
        "id": "LYQl9krHIupG",
        "outputId": "dc9fe8af-39da-4ae3-ba03-ecf125935493",
        "colab": {
          "base_uri": "https://localhost:8080/"
        }
      },
      "source": [
        "5 * 3"
      ],
      "execution_count": 6,
      "outputs": [
        {
          "output_type": "execute_result",
          "data": {
            "text/plain": [
              "15"
            ]
          },
          "metadata": {
            "tags": []
          },
          "execution_count": 6
        }
      ]
    },
    {
      "cell_type": "code",
      "metadata": {
        "id": "UfVXckSeIupH",
        "outputId": "1f9b72ad-d9a8-4b9b-c422-74de6d5e0011",
        "colab": {
          "base_uri": "https://localhost:8080/"
        }
      },
      "source": [
        "2**4"
      ],
      "execution_count": 7,
      "outputs": [
        {
          "output_type": "execute_result",
          "data": {
            "text/plain": [
              "16"
            ]
          },
          "metadata": {
            "tags": []
          },
          "execution_count": 7
        }
      ]
    },
    {
      "cell_type": "code",
      "metadata": {
        "id": "Eis6S7ITIupH",
        "outputId": "fb1b59ba-ed35-427e-eed2-1cbac4d6b305",
        "colab": {
          "base_uri": "https://localhost:8080/"
        }
      },
      "source": [
        "from math import sqrt\n",
        "sqrt(16)"
      ],
      "execution_count": 8,
      "outputs": [
        {
          "output_type": "execute_result",
          "data": {
            "text/plain": [
              "4.0"
            ]
          },
          "metadata": {
            "tags": []
          },
          "execution_count": 8
        }
      ]
    },
    {
      "cell_type": "code",
      "metadata": {
        "id": "tTNlAAvAIupI",
        "outputId": "30f3fcac-361c-466a-85d1-dca15cd37c4c",
        "colab": {
          "base_uri": "https://localhost:8080/"
        }
      },
      "source": [
        "2 / 3"
      ],
      "execution_count": 9,
      "outputs": [
        {
          "output_type": "execute_result",
          "data": {
            "text/plain": [
              "0.6666666666666666"
            ]
          },
          "metadata": {
            "tags": []
          },
          "execution_count": 9
        }
      ]
    },
    {
      "cell_type": "code",
      "metadata": {
        "id": "7MeVtMqhIupI",
        "outputId": "d4eab882-5012-4aa0-807f-f7f43ce8f358",
        "colab": {
          "base_uri": "https://localhost:8080/"
        }
      },
      "source": [
        "type(5)"
      ],
      "execution_count": 10,
      "outputs": [
        {
          "output_type": "execute_result",
          "data": {
            "text/plain": [
              "int"
            ]
          },
          "metadata": {
            "tags": []
          },
          "execution_count": 10
        }
      ]
    },
    {
      "cell_type": "code",
      "metadata": {
        "id": "0XU-phRqIupI",
        "outputId": "55e01360-b776-47bd-a715-a0c32d3b1f84",
        "colab": {
          "base_uri": "https://localhost:8080/"
        }
      },
      "source": [
        "type(2/3)"
      ],
      "execution_count": 11,
      "outputs": [
        {
          "output_type": "execute_result",
          "data": {
            "text/plain": [
              "float"
            ]
          },
          "metadata": {
            "tags": []
          },
          "execution_count": 11
        }
      ]
    },
    {
      "cell_type": "markdown",
      "metadata": {
        "id": "-Gz01AmOIupJ"
      },
      "source": [
        "## Variables"
      ]
    },
    {
      "cell_type": "code",
      "metadata": {
        "id": "NHlepA4SIupJ",
        "outputId": "04833c3f-c0d4-493c-a983-ae6058162c5a",
        "colab": {
          "base_uri": "https://localhost:8080/",
          "height": 35
        }
      },
      "source": [
        "a = \"Hello\"\n",
        "b = \" World!\"\n",
        "a + b"
      ],
      "execution_count": 12,
      "outputs": [
        {
          "output_type": "execute_result",
          "data": {
            "application/vnd.google.colaboratory.intrinsic+json": {
              "type": "string"
            },
            "text/plain": [
              "'Hello World!'"
            ]
          },
          "metadata": {
            "tags": []
          },
          "execution_count": 12
        }
      ]
    },
    {
      "cell_type": "code",
      "metadata": {
        "id": "vTq3GxmKIupJ",
        "outputId": "15ac3577-c3b5-4adc-c5a7-d8dfbeef76e8",
        "colab": {
          "base_uri": "https://localhost:8080/"
        }
      },
      "source": [
        "a = 3\n",
        "b = 5\n",
        "a * b"
      ],
      "execution_count": 13,
      "outputs": [
        {
          "output_type": "execute_result",
          "data": {
            "text/plain": [
              "15"
            ]
          },
          "metadata": {
            "tags": []
          },
          "execution_count": 13
        }
      ]
    },
    {
      "cell_type": "code",
      "metadata": {
        "id": "_-uNF7SIIupK"
      },
      "source": [
        "type(b)"
      ],
      "execution_count": null,
      "outputs": []
    },
    {
      "cell_type": "markdown",
      "metadata": {
        "id": "jtmVX-PIIupK"
      },
      "source": [
        "## Lists"
      ]
    },
    {
      "cell_type": "code",
      "metadata": {
        "id": "mbuHdPtOIupK"
      },
      "source": [
        "[1, 2, 3, 4] "
      ],
      "execution_count": null,
      "outputs": []
    },
    {
      "cell_type": "code",
      "metadata": {
        "id": "ISz4ZlEdIupK"
      },
      "source": [
        "a = [\"a\", \"b\", \"c\", \"d\"]"
      ],
      "execution_count": 14,
      "outputs": []
    },
    {
      "cell_type": "code",
      "metadata": {
        "id": "F9jQfbB_IupK",
        "outputId": "1889197a-3656-4848-88b7-d5982dee2f14",
        "colab": {
          "base_uri": "https://localhost:8080/",
          "height": 35
        }
      },
      "source": [
        "a[0]"
      ],
      "execution_count": 15,
      "outputs": [
        {
          "output_type": "execute_result",
          "data": {
            "application/vnd.google.colaboratory.intrinsic+json": {
              "type": "string"
            },
            "text/plain": [
              "'a'"
            ]
          },
          "metadata": {
            "tags": []
          },
          "execution_count": 15
        }
      ]
    },
    {
      "cell_type": "code",
      "metadata": {
        "id": "jz6KlnnXIupL",
        "outputId": "5e665cda-136f-4bf4-c6a8-b1bfa6fc7a01",
        "colab": {
          "base_uri": "https://localhost:8080/",
          "height": 35
        }
      },
      "source": [
        "a[3]"
      ],
      "execution_count": 16,
      "outputs": [
        {
          "output_type": "execute_result",
          "data": {
            "application/vnd.google.colaboratory.intrinsic+json": {
              "type": "string"
            },
            "text/plain": [
              "'d'"
            ]
          },
          "metadata": {
            "tags": []
          },
          "execution_count": 16
        }
      ]
    },
    {
      "cell_type": "code",
      "metadata": {
        "id": "TDpJddxFIupL",
        "outputId": "a54bfd81-479d-4a5d-a915-3734f4ee7c28",
        "colab": {
          "base_uri": "https://localhost:8080/",
          "height": 35
        }
      },
      "source": [
        "a[-1]"
      ],
      "execution_count": 17,
      "outputs": [
        {
          "output_type": "execute_result",
          "data": {
            "application/vnd.google.colaboratory.intrinsic+json": {
              "type": "string"
            },
            "text/plain": [
              "'d'"
            ]
          },
          "metadata": {
            "tags": []
          },
          "execution_count": 17
        }
      ]
    },
    {
      "cell_type": "code",
      "metadata": {
        "id": "_yeRj9cuIupL",
        "outputId": "db3079b9-e0c5-411a-85ff-cc33a891d65c",
        "colab": {
          "base_uri": "https://localhost:8080/"
        }
      },
      "source": [
        "len(a)"
      ],
      "execution_count": 18,
      "outputs": [
        {
          "output_type": "execute_result",
          "data": {
            "text/plain": [
              "4"
            ]
          },
          "metadata": {
            "tags": []
          },
          "execution_count": 18
        }
      ]
    },
    {
      "cell_type": "code",
      "metadata": {
        "id": "GRsRkF4vIupM",
        "outputId": "62d2c825-f48a-4165-dab2-2bd9477f2f9c",
        "colab": {
          "base_uri": "https://localhost:8080/"
        }
      },
      "source": [
        "a[0:3]"
      ],
      "execution_count": 22,
      "outputs": [
        {
          "output_type": "execute_result",
          "data": {
            "text/plain": [
              "['a', 'b', 'c']"
            ]
          },
          "metadata": {
            "tags": []
          },
          "execution_count": 22
        }
      ]
    },
    {
      "cell_type": "code",
      "metadata": {
        "id": "CAfl1fBWIupM",
        "outputId": "0c904732-0789-4a1f-b824-203af6af33f3",
        "colab": {
          "base_uri": "https://localhost:8080/"
        }
      },
      "source": [
        "a.append(\"e\")   # the method append appens an element to a list\n",
        "a"
      ],
      "execution_count": 23,
      "outputs": [
        {
          "output_type": "execute_result",
          "data": {
            "text/plain": [
              "['a', 'b', 'c', 'd', 'e']"
            ]
          },
          "metadata": {
            "tags": []
          },
          "execution_count": 23
        }
      ]
    },
    {
      "cell_type": "code",
      "metadata": {
        "id": "ATlX2lo5IupM",
        "outputId": "7c57299b-18db-4ac5-abc9-a7a25fcd76a4",
        "colab": {
          "base_uri": "https://localhost:8080/"
        }
      },
      "source": [
        "b = [\"f\", \"g\"]\n",
        "a + b"
      ],
      "execution_count": 24,
      "outputs": [
        {
          "output_type": "execute_result",
          "data": {
            "text/plain": [
              "['a', 'b', 'c', 'd', 'e', 'f', 'g']"
            ]
          },
          "metadata": {
            "tags": []
          },
          "execution_count": 24
        }
      ]
    },
    {
      "cell_type": "code",
      "metadata": {
        "id": "70_YTymzIupM",
        "outputId": "4e1e0564-5bcb-455e-9b45-5a90e9c9b9d2",
        "colab": {
          "base_uri": "https://localhost:8080/"
        }
      },
      "source": [
        "type(a)"
      ],
      "execution_count": 25,
      "outputs": [
        {
          "output_type": "execute_result",
          "data": {
            "text/plain": [
              "list"
            ]
          },
          "metadata": {
            "tags": []
          },
          "execution_count": 25
        }
      ]
    },
    {
      "cell_type": "markdown",
      "metadata": {
        "id": "CK2A29RDIupN"
      },
      "source": [
        "### Filter and map lists"
      ]
    },
    {
      "cell_type": "code",
      "metadata": {
        "id": "cppVpQE_IupN",
        "outputId": "89a98eb3-6716-449c-8de7-d4f4bf236f47",
        "colab": {
          "base_uri": "https://localhost:8080/"
        }
      },
      "source": [
        "numbers = [1, 2, 3, 4, 5, 6, 7]\n",
        "# Filter\n",
        "bigNumbers = [x for x in numbers if x>4]        # Filter numbers bigger than 4\n",
        "evenNumbers = [x for x in numbers if x%2==0]    # Filter even numbers\n",
        "# Map\n",
        "squareNumbers = [x**2 for x in numbers]         # Create a new list with the squares of the numbers in the original list\n",
        "\n",
        "print(bigNumbers)\n",
        "print(evenNumbers)\n",
        "print(squareNumbers)"
      ],
      "execution_count": 26,
      "outputs": [
        {
          "output_type": "stream",
          "text": [
            "[5, 6, 7]\n",
            "[2, 4, 6]\n",
            "[1, 4, 9, 16, 25, 36, 49]\n"
          ],
          "name": "stdout"
        }
      ]
    },
    {
      "cell_type": "markdown",
      "metadata": {
        "id": "TC5L0t6ZIupN"
      },
      "source": [
        "## Objects"
      ]
    },
    {
      "cell_type": "code",
      "metadata": {
        "id": "Q5p0C3a1IupO"
      },
      "source": [
        "import math\n",
        "class Circle:\n",
        "    x = 0    # the x-coordinate of the position of the circle\n",
        "    y = 0    # the Y-coordinate of the position of the circle\n",
        "    radius = 10 # the radius of the circle\n",
        "    # Constructor\n",
        "    def __init__(self, x, y, radius):\n",
        "        self.x = x\n",
        "        self.y = y\n",
        "        self.radius = radius\n",
        "    \n",
        "    # a method with a return value\n",
        "    def area(self):\n",
        "        return math.pi * self.radius ** 2  \n",
        "    \n",
        "    def moveTo(self, x, y):\n",
        "        self.x = x\n",
        "        self.y = y"
      ],
      "execution_count": null,
      "outputs": []
    },
    {
      "cell_type": "code",
      "metadata": {
        "id": "DuzRGJcwIupO"
      },
      "source": [
        "circle1 = Circle(106, 56, 3)\n",
        "circle2 = Circle(12, 78, 7)\n",
        "print(circle1.__dict__)\n",
        "print(circle2.__dict__)\n",
        "print(circle1.area())\n",
        "print(circle2.area())\n",
        "circle1.moveTo(3,4)\n",
        "print(circle1.__dict__)\n",
        "type(circle1)"
      ],
      "execution_count": null,
      "outputs": []
    },
    {
      "cell_type": "markdown",
      "metadata": {
        "id": "sjhL176oIupO"
      },
      "source": [
        "## Content of modules and help"
      ]
    },
    {
      "cell_type": "code",
      "metadata": {
        "id": "X9MdihfOIupP"
      },
      "source": [
        "dir(math)"
      ],
      "execution_count": null,
      "outputs": []
    },
    {
      "cell_type": "code",
      "metadata": {
        "id": "QvEv0oyxIupP"
      },
      "source": [
        "help(math)"
      ],
      "execution_count": null,
      "outputs": []
    },
    {
      "cell_type": "code",
      "metadata": {
        "id": "E2769qBVIupP"
      },
      "source": [
        "help(math.sqrt)"
      ],
      "execution_count": null,
      "outputs": []
    },
    {
      "cell_type": "code",
      "metadata": {
        "id": "4iphCb55IupP"
      },
      "source": [
        "help(\"\")"
      ],
      "execution_count": null,
      "outputs": []
    },
    {
      "cell_type": "markdown",
      "metadata": {
        "id": "fO3frKybIupQ"
      },
      "source": [
        "## Dictionaries"
      ]
    },
    {
      "cell_type": "code",
      "metadata": {
        "id": "91rogawtIupQ"
      },
      "source": [
        "german = {'Strasse' : 'rue', 'Haus' : 'maison', 'Baum' : \"arbre\"}\n",
        "print(german)\n",
        "print(german['Baum'])\n",
        "print(german.keys())\n",
        "print(german.values())"
      ],
      "execution_count": null,
      "outputs": []
    },
    {
      "cell_type": "markdown",
      "metadata": {
        "id": "vMVUVrlnIupQ"
      },
      "source": [
        "## Tuples"
      ]
    },
    {
      "cell_type": "code",
      "metadata": {
        "id": "3CGOy9KCIupQ"
      },
      "source": [
        "(2, 3)"
      ],
      "execution_count": null,
      "outputs": []
    },
    {
      "cell_type": "code",
      "metadata": {
        "id": "lH-6xm2jIupQ"
      },
      "source": [
        "a = (2, 3)"
      ],
      "execution_count": null,
      "outputs": []
    },
    {
      "cell_type": "code",
      "metadata": {
        "id": "7ckTjUalIupR"
      },
      "source": [
        "a[0]"
      ],
      "execution_count": null,
      "outputs": []
    },
    {
      "cell_type": "code",
      "metadata": {
        "id": "HkJgWIP4IupR",
        "outputId": "cff79918-db2f-4b71-a8f8-b42e7314a1e6",
        "colab": {
          "base_uri": "https://localhost:8080/"
        }
      },
      "source": [
        "a = [1, 2, 3, 4]          # a list\n",
        "b = ['a', 'b', 'c', 'd']  # another list\n",
        "\n",
        "tupelList = list(zip(a,b)) # a list of tuples from corresponding elements of the two lists\n",
        "print(tupelList)"
      ],
      "execution_count": 27,
      "outputs": [
        {
          "output_type": "stream",
          "text": [
            "[(1, 'a'), (2, 'b'), (3, 'c'), (4, 'd')]\n"
          ],
          "name": "stdout"
        }
      ]
    },
    {
      "cell_type": "markdown",
      "metadata": {
        "id": "mt4UzdTHK2Lh"
      },
      "source": [
        "## Control structures"
      ]
    },
    {
      "cell_type": "markdown",
      "metadata": {
        "id": "nUVafSbCK7AU"
      },
      "source": [
        "### Conditional code execution\n"
      ]
    },
    {
      "cell_type": "markdown",
      "metadata": {
        "id": "Vo9LkyhzLAWc"
      },
      "source": [
        "To be interesting a program must be able to react differently deepending on the input and/or its current state. \n",
        "\n",
        "We'll ask the user to enter a number and print ``even`` if the number is even and ``odd`` if it is odd."
      ]
    },
    {
      "cell_type": "code",
      "metadata": {
        "id": "E7x598AkLZYn",
        "outputId": "b43289af-8d9c-41db-9877-d4ba683dae74",
        "colab": {
          "base_uri": "https://localhost:8080/"
        }
      },
      "source": [
        "input = int(input('Enter a number: '))\n",
        "if input % 2 == 0:\n",
        "  print(\"even\")\n",
        "else:\n",
        "  print(\"odd\")"
      ],
      "execution_count": 29,
      "outputs": [
        {
          "output_type": "stream",
          "text": [
            "Enter a number: 6\n",
            "even\n"
          ],
          "name": "stdout"
        }
      ]
    },
    {
      "cell_type": "markdown",
      "metadata": {
        "id": "UyZmrMbcMAoE"
      },
      "source": [
        "### Loops"
      ]
    },
    {
      "cell_type": "markdown",
      "metadata": {
        "id": "x8pZwijINK9e"
      },
      "source": [
        "### for-each loop"
      ]
    },
    {
      "cell_type": "code",
      "metadata": {
        "id": "muz3ATfaNRUn",
        "outputId": "a9f9573e-fe2f-4b2f-b68e-70e4be8c8a1f",
        "colab": {
          "base_uri": "https://localhost:8080/"
        }
      },
      "source": [
        "list = [2, 3, 5, 7, 11, 13]\n",
        "for i in list:\n",
        "  print(i)\n"
      ],
      "execution_count": 30,
      "outputs": [
        {
          "output_type": "stream",
          "text": [
            "2\n",
            "3\n",
            "5\n",
            "7\n",
            "11\n",
            "13\n"
          ],
          "name": "stdout"
        }
      ]
    },
    {
      "cell_type": "code",
      "metadata": {
        "id": "AJF4hwjWNasp",
        "outputId": "a793c593-edde-474c-d649-bb0bed1d2028",
        "colab": {
          "base_uri": "https://localhost:8080/"
        }
      },
      "source": [
        "for i in range(1, 10):\n",
        "  print(i)"
      ],
      "execution_count": 31,
      "outputs": [
        {
          "output_type": "stream",
          "text": [
            "1\n",
            "2\n",
            "3\n",
            "4\n",
            "5\n",
            "6\n",
            "7\n",
            "8\n",
            "9\n"
          ],
          "name": "stdout"
        }
      ]
    },
    {
      "cell_type": "markdown",
      "metadata": {
        "id": "NjitTN2ANurF"
      },
      "source": [
        "### while loop"
      ]
    },
    {
      "cell_type": "code",
      "metadata": {
        "id": "jdYuIQjEN27I",
        "outputId": "5c100785-e9be-4ff0-a6b0-0ada1ee9d15f",
        "colab": {
          "base_uri": "https://localhost:8080/"
        }
      },
      "source": [
        "import random\n",
        "number = random.randint(1,100)\n",
        "trials = 10\n",
        "trialNr = 1\n",
        "guess = int(input(str(trialNr) + \". guess my number: \"))\n",
        "while not guess == number and trialNr <= trials:\n",
        "  if number < guess:\n",
        "    print(\"My number is smaller\")\n",
        "  else: \n",
        "    print(\"My number is bigger\")\n",
        "  trialNr = trialNr + 1\n",
        "  guess = int(input(str(trialNr) + \". guess my number: \"))       \n",
        "if guess == number:\n",
        "  print(\"You win\")\n",
        "else:\n",
        "  print(\"I win\")"
      ],
      "execution_count": 6,
      "outputs": [
        {
          "output_type": "stream",
          "text": [
            "1. guess my number: 50\n",
            "My number is bigger\n",
            "2. guess my number: 75\n",
            "My number is bigger\n",
            "3. guess my number: 87\n",
            "My number is smaller\n",
            "4. guess my number: 81\n",
            "My number is bigger\n",
            "5. guess my number: 84\n",
            "You win\n"
          ],
          "name": "stdout"
        }
      ]
    },
    {
      "cell_type": "code",
      "metadata": {
        "id": "2v3MNKy_QYAG"
      },
      "source": [
        ""
      ],
      "execution_count": 2,
      "outputs": []
    }
  ]
}
