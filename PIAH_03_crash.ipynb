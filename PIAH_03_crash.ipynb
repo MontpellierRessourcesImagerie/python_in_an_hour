{
  "nbformat": 4,
  "nbformat_minor": 0,
  "metadata": {
    "kernelspec": {
      "display_name": "OMERO Python 3",
      "language": "python",
      "name": "python3"
    },
    "language_info": {
      "codemirror_mode": {
        "name": "ipython",
        "version": 3
      },
      "file_extension": ".py",
      "mimetype": "text/x-python",
      "name": "python",
      "nbconvert_exporter": "python",
      "pygments_lexer": "ipython3",
      "version": "3.6.7"
    },
    "colab": {
      "name": "PIAH_03_crash.ipynb",
      "provenance": [],
      "toc_visible": true
    }
  },
  "cells": [
    {
      "cell_type": "markdown",
      "metadata": {
        "id": "XtwknOBUIupA"
      },
      "source": [
        "# A crash course in ~~brain surgery~~ python programming"
      ]
    },
    {
      "cell_type": "markdown",
      "metadata": {
        "id": "dFRzIajeIupC"
      },
      "source": [
        "## Text"
      ]
    },
    {
      "cell_type": "code",
      "metadata": {
        "id": "r95sVM_QIupC"
      },
      "source": [
        "\"A text is a text\""
      ],
      "execution_count": null,
      "outputs": []
    },
    {
      "cell_type": "markdown",
      "metadata": {
        "id": "d_GaAgNSIupE"
      },
      "source": [
        "### Concatenation"
      ]
    },
    {
      "cell_type": "code",
      "metadata": {
        "id": "004bP5QRIupE"
      },
      "source": [
        "\"Hello\" + \" \" +\"World\""
      ],
      "execution_count": null,
      "outputs": []
    },
    {
      "cell_type": "code",
      "metadata": {
        "id": "HOqaibL1IupE"
      },
      "source": [
        "type(\"Hello\")   # The function type returns the type of its argument"
      ],
      "execution_count": null,
      "outputs": []
    },
    {
      "cell_type": "markdown",
      "metadata": {
        "id": "4n41-JopIupF"
      },
      "source": [
        "## Numbers"
      ]
    },
    {
      "cell_type": "code",
      "metadata": {
        "id": "nhuscIKtIupF"
      },
      "source": [
        "5"
      ],
      "execution_count": null,
      "outputs": []
    },
    {
      "cell_type": "code",
      "metadata": {
        "id": "TyQaxDXuIupG"
      },
      "source": [
        "5 + 3"
      ],
      "execution_count": null,
      "outputs": []
    },
    {
      "cell_type": "code",
      "metadata": {
        "id": "LYQl9krHIupG"
      },
      "source": [
        "5 * 3"
      ],
      "execution_count": null,
      "outputs": []
    },
    {
      "cell_type": "code",
      "metadata": {
        "id": "UfVXckSeIupH"
      },
      "source": [
        "2**4"
      ],
      "execution_count": null,
      "outputs": []
    },
    {
      "cell_type": "code",
      "metadata": {
        "id": "Eis6S7ITIupH"
      },
      "source": [
        "from math import sqrt\n",
        "sqrt(16)"
      ],
      "execution_count": null,
      "outputs": []
    },
    {
      "cell_type": "code",
      "metadata": {
        "id": "tTNlAAvAIupI"
      },
      "source": [
        "2 / 3"
      ],
      "execution_count": null,
      "outputs": []
    },
    {
      "cell_type": "code",
      "metadata": {
        "id": "7MeVtMqhIupI"
      },
      "source": [
        "type(5)"
      ],
      "execution_count": null,
      "outputs": []
    },
    {
      "cell_type": "code",
      "metadata": {
        "id": "0XU-phRqIupI"
      },
      "source": [
        "type(2/3)"
      ],
      "execution_count": null,
      "outputs": []
    },
    {
      "cell_type": "markdown",
      "metadata": {
        "id": "-Gz01AmOIupJ"
      },
      "source": [
        "## Variables"
      ]
    },
    {
      "cell_type": "code",
      "metadata": {
        "id": "NHlepA4SIupJ"
      },
      "source": [
        "a = \"Hello\"\n",
        "b = \" World!\"\n",
        "a + b"
      ],
      "execution_count": null,
      "outputs": []
    },
    {
      "cell_type": "code",
      "metadata": {
        "id": "vTq3GxmKIupJ"
      },
      "source": [
        "a = 3\n",
        "b = 5\n",
        "a * b"
      ],
      "execution_count": null,
      "outputs": []
    },
    {
      "cell_type": "code",
      "metadata": {
        "id": "_-uNF7SIIupK"
      },
      "source": [
        "type(b)"
      ],
      "execution_count": null,
      "outputs": []
    },
    {
      "cell_type": "markdown",
      "metadata": {
        "id": "jtmVX-PIIupK"
      },
      "source": [
        "## Lists"
      ]
    },
    {
      "cell_type": "code",
      "metadata": {
        "id": "mbuHdPtOIupK"
      },
      "source": [
        "[1, 2, 3, 4] "
      ],
      "execution_count": null,
      "outputs": []
    },
    {
      "cell_type": "code",
      "metadata": {
        "id": "ISz4ZlEdIupK"
      },
      "source": [
        "a = [\"a\", \"b\", \"c\", \"d\"]"
      ],
      "execution_count": null,
      "outputs": []
    },
    {
      "cell_type": "code",
      "metadata": {
        "id": "F9jQfbB_IupK"
      },
      "source": [
        "a[0]"
      ],
      "execution_count": null,
      "outputs": []
    },
    {
      "cell_type": "code",
      "metadata": {
        "id": "jz6KlnnXIupL"
      },
      "source": [
        "a[3]"
      ],
      "execution_count": null,
      "outputs": []
    },
    {
      "cell_type": "code",
      "metadata": {
        "id": "TDpJddxFIupL"
      },
      "source": [
        "a[-1]"
      ],
      "execution_count": null,
      "outputs": []
    },
    {
      "cell_type": "code",
      "metadata": {
        "id": "_yeRj9cuIupL"
      },
      "source": [
        "len(a)"
      ],
      "execution_count": null,
      "outputs": []
    },
    {
      "cell_type": "code",
      "metadata": {
        "id": "GRsRkF4vIupM"
      },
      "source": [
        "a[0:3]"
      ],
      "execution_count": null,
      "outputs": []
    },
    {
      "cell_type": "code",
      "metadata": {
        "id": "CAfl1fBWIupM"
      },
      "source": [
        "a.append(\"e\")   # the method append appends an element to a list\n",
        "a"
      ],
      "execution_count": null,
      "outputs": []
    },
    {
      "cell_type": "code",
      "metadata": {
        "id": "ATlX2lo5IupM"
      },
      "source": [
        "b = [\"f\", \"g\"]\n",
        "a + b"
      ],
      "execution_count": null,
      "outputs": []
    },
    {
      "cell_type": "code",
      "metadata": {
        "id": "70_YTymzIupM"
      },
      "source": [
        "type(a)"
      ],
      "execution_count": null,
      "outputs": []
    },
    {
      "cell_type": "markdown",
      "metadata": {
        "id": "CK2A29RDIupN"
      },
      "source": [
        "### Filter and map lists"
      ]
    },
    {
      "cell_type": "code",
      "metadata": {
        "id": "cppVpQE_IupN"
      },
      "source": [
        "numbers = [1, 2, 3, 4, 5, 6, 7]\n",
        "# Filter\n",
        "bigNumbers = [x for x in numbers if x>4]        # Filter numbers bigger than 4\n",
        "evenNumbers = [x for x in numbers if x%2==0]    # Filter even numbers\n",
        "# Map\n",
        "squareNumbers = [x**2 for x in numbers]         # Create a new list with the squares of the numbers in the original list\n",
        "\n",
        "print(bigNumbers)\n",
        "print(evenNumbers)\n",
        "print(squareNumbers)"
      ],
      "execution_count": null,
      "outputs": []
    },
    {
      "cell_type": "markdown",
      "metadata": {
        "id": "TC5L0t6ZIupN"
      },
      "source": [
        "## Objects"
      ]
    },
    {
      "cell_type": "code",
      "metadata": {
        "id": "Q5p0C3a1IupO"
      },
      "source": [
        "import math\n",
        "class Circle:\n",
        "    x = 0    # the x-coordinate of the position of the circle\n",
        "    y = 0    # the Y-coordinate of the position of the circle\n",
        "    radius = 10 # the radius of the circle\n",
        "    # Constructor\n",
        "    def __init__(self, x, y, radius):\n",
        "        self.x = x\n",
        "        self.y = y\n",
        "        self.radius = radius\n",
        "    \n",
        "    # a method with a return value\n",
        "    def area(self):\n",
        "        return math.pi * self.radius ** 2  \n",
        "    \n",
        "    def moveTo(self, x, y):\n",
        "        self.x = x\n",
        "        self.y = y"
      ],
      "execution_count": null,
      "outputs": []
    },
    {
      "cell_type": "code",
      "metadata": {
        "id": "DuzRGJcwIupO"
      },
      "source": [
        "circle1 = Circle(106, 56, 3)\n",
        "circle2 = Circle(12, 78, 7)\n",
        "print(circle1.__dict__)\n",
        "print(circle2.__dict__)\n",
        "print(circle1.area())\n",
        "print(circle2.area())\n",
        "circle1.moveTo(3,4)\n",
        "print(circle1.__dict__)\n",
        "type(circle1)"
      ],
      "execution_count": null,
      "outputs": []
    },
    {
      "cell_type": "markdown",
      "metadata": {
        "id": "sjhL176oIupO"
      },
      "source": [
        "## Content of modules and help"
      ]
    },
    {
      "cell_type": "code",
      "metadata": {
        "id": "X9MdihfOIupP"
      },
      "source": [
        "dir(math)"
      ],
      "execution_count": null,
      "outputs": []
    },
    {
      "cell_type": "code",
      "metadata": {
        "id": "QvEv0oyxIupP"
      },
      "source": [
        "help(math)"
      ],
      "execution_count": null,
      "outputs": []
    },
    {
      "cell_type": "code",
      "metadata": {
        "id": "E2769qBVIupP"
      },
      "source": [
        "help(math.sqrt)"
      ],
      "execution_count": null,
      "outputs": []
    },
    {
      "cell_type": "code",
      "metadata": {
        "id": "4iphCb55IupP"
      },
      "source": [
        "help(\"\")"
      ],
      "execution_count": null,
      "outputs": []
    },
    {
      "cell_type": "markdown",
      "metadata": {
        "id": "fO3frKybIupQ"
      },
      "source": [
        "## Dictionaries"
      ]
    },
    {
      "cell_type": "code",
      "metadata": {
        "id": "91rogawtIupQ"
      },
      "source": [
        "german = {'Strasse' : 'rue', 'Haus' : 'maison', 'Baum' : \"arbre\"}\n",
        "print(german)\n",
        "print(german['Baum'])\n",
        "print(german.keys())\n",
        "print(german.values())"
      ],
      "execution_count": null,
      "outputs": []
    },
    {
      "cell_type": "markdown",
      "metadata": {
        "id": "vMVUVrlnIupQ"
      },
      "source": [
        "## Tuples"
      ]
    },
    {
      "cell_type": "code",
      "metadata": {
        "id": "3CGOy9KCIupQ"
      },
      "source": [
        "(2, 3)"
      ],
      "execution_count": null,
      "outputs": []
    },
    {
      "cell_type": "code",
      "metadata": {
        "id": "lH-6xm2jIupQ"
      },
      "source": [
        "a = (2, 3)"
      ],
      "execution_count": null,
      "outputs": []
    },
    {
      "cell_type": "code",
      "metadata": {
        "id": "7ckTjUalIupR"
      },
      "source": [
        "a[0]"
      ],
      "execution_count": null,
      "outputs": []
    },
    {
      "cell_type": "code",
      "metadata": {
        "id": "HkJgWIP4IupR"
      },
      "source": [
        "a = [1, 2, 3, 4]          # a list\n",
        "b = ['a', 'b', 'c', 'd']  # another list\n",
        "\n",
        "tupelList = list(zip(a,b)) # a list of tuples from corresponding elements of the two lists\n",
        "print(tupelList)"
      ],
      "execution_count": null,
      "outputs": []
    },
    {
      "cell_type": "markdown",
      "metadata": {
        "id": "mt4UzdTHK2Lh"
      },
      "source": [
        "## Control structures"
      ]
    },
    {
      "cell_type": "markdown",
      "metadata": {
        "id": "nUVafSbCK7AU"
      },
      "source": [
        "### Conditional code execution\n"
      ]
    },
    {
      "cell_type": "markdown",
      "metadata": {
        "id": "Vo9LkyhzLAWc"
      },
      "source": [
        "To be interesting, a program must be able to react differently deepending on the input and/or its current state. \n",
        "\n",
        "We'll ask the user to enter a number and print ``even`` if the number is even and ``odd`` if it is odd."
      ]
    },
    {
      "cell_type": "code",
      "metadata": {
        "id": "E7x598AkLZYn"
      },
      "source": [
        "number = int(input('Enter a number: '))\n",
        "if number % 2 == 0:\n",
        "  print(\"even\")\n",
        "else:\n",
        "  print(\"odd\")"
      ],
      "execution_count": null,
      "outputs": []
    },
    {
      "cell_type": "markdown",
      "metadata": {
        "id": "UyZmrMbcMAoE"
      },
      "source": [
        "### Loops"
      ]
    },
    {
      "cell_type": "markdown",
      "metadata": {
        "id": "x8pZwijINK9e"
      },
      "source": [
        "### for-each loop"
      ]
    },
    {
      "cell_type": "code",
      "metadata": {
        "id": "muz3ATfaNRUn"
      },
      "source": [
        "numbers = [2, 3, 5, 7, 11, 13]\n",
        "for i in numbers:\n",
        "  print(i)\n"
      ],
      "execution_count": null,
      "outputs": []
    },
    {
      "cell_type": "code",
      "metadata": {
        "id": "AJF4hwjWNasp"
      },
      "source": [
        "for i in range(1, 10):\n",
        "  print(i)"
      ],
      "execution_count": null,
      "outputs": []
    },
    {
      "cell_type": "markdown",
      "metadata": {
        "id": "NjitTN2ANurF"
      },
      "source": [
        "### while loop"
      ]
    },
    {
      "cell_type": "code",
      "metadata": {
        "id": "jdYuIQjEN27I"
      },
      "source": [
        "import random\n",
        "number = random.randint(1,100)\n",
        "trials = 10\n",
        "trialNr = 1\n",
        "guess = int(input(str(trialNr) + \". guess my number: \"))\n",
        "while not guess == number and trialNr <= trials:\n",
        "  if number < guess:\n",
        "    print(\"My number is smaller\")\n",
        "  else: \n",
        "    print(\"My number is bigger\")\n",
        "  trialNr = trialNr + 1\n",
        "  guess = int(input(str(trialNr) + \". guess my number: \"))       \n",
        "if guess == number:\n",
        "  print(\"You win\")\n",
        "else:\n",
        "  print(\"I win\")"
      ],
      "execution_count": null,
      "outputs": []
    }
  ]
}